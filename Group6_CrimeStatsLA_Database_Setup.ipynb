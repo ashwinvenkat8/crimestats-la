{
  "cells": [
    {
      "cell_type": "markdown",
      "metadata": {},
      "source": [
        "# Install libraries"
      ]
    },
    {
      "cell_type": "code",
      "execution_count": 1,
      "metadata": {},
      "outputs": [
        {
          "name": "stdout",
          "output_type": "stream",
          "text": [
            "Requirement already satisfied: appnope==0.1.4 in ./venv/lib/python3.12/site-packages (from -r requirements.txt (line 1)) (0.1.4)\n",
            "Requirement already satisfied: asttokens==2.4.1 in ./venv/lib/python3.12/site-packages (from -r requirements.txt (line 2)) (2.4.1)\n",
            "Requirement already satisfied: comm==0.2.2 in ./venv/lib/python3.12/site-packages (from -r requirements.txt (line 3)) (0.2.2)\n",
            "Collecting contourpy==1.2.1 (from -r requirements.txt (line 4))\n",
            "  Using cached contourpy-1.2.1-cp312-cp312-macosx_11_0_arm64.whl.metadata (5.8 kB)\n",
            "Collecting cycler==0.12.1 (from -r requirements.txt (line 5))\n",
            "  Using cached cycler-0.12.1-py3-none-any.whl.metadata (3.8 kB)\n",
            "Requirement already satisfied: debugpy==1.8.1 in ./venv/lib/python3.12/site-packages (from -r requirements.txt (line 6)) (1.8.1)\n",
            "Requirement already satisfied: decorator==5.1.1 in ./venv/lib/python3.12/site-packages (from -r requirements.txt (line 7)) (5.1.1)\n",
            "Collecting dnspython==2.6.1 (from -r requirements.txt (line 8))\n",
            "  Using cached dnspython-2.6.1-py3-none-any.whl.metadata (5.8 kB)\n",
            "Requirement already satisfied: executing==2.0.1 in ./venv/lib/python3.12/site-packages (from -r requirements.txt (line 9)) (2.0.1)\n",
            "Collecting fonttools==4.51.0 (from -r requirements.txt (line 10))\n",
            "  Using cached fonttools-4.51.0-cp312-cp312-macosx_10_9_universal2.whl.metadata (159 kB)\n",
            "Requirement already satisfied: ipykernel==6.29.4 in ./venv/lib/python3.12/site-packages (from -r requirements.txt (line 11)) (6.29.4)\n",
            "Requirement already satisfied: ipython==8.23.0 in ./venv/lib/python3.12/site-packages (from -r requirements.txt (line 12)) (8.23.0)\n",
            "Requirement already satisfied: jedi==0.19.1 in ./venv/lib/python3.12/site-packages (from -r requirements.txt (line 13)) (0.19.1)\n",
            "Requirement already satisfied: jupyter_client==8.6.1 in ./venv/lib/python3.12/site-packages (from -r requirements.txt (line 14)) (8.6.1)\n",
            "Requirement already satisfied: jupyter_core==5.7.2 in ./venv/lib/python3.12/site-packages (from -r requirements.txt (line 15)) (5.7.2)\n",
            "Collecting kiwisolver==1.4.5 (from -r requirements.txt (line 16))\n",
            "  Using cached kiwisolver-1.4.5-cp312-cp312-macosx_11_0_arm64.whl.metadata (6.4 kB)\n",
            "Collecting matplotlib==3.8.4 (from -r requirements.txt (line 17))\n",
            "  Using cached matplotlib-3.8.4-cp312-cp312-macosx_11_0_arm64.whl.metadata (5.8 kB)\n",
            "Requirement already satisfied: matplotlib-inline==0.1.6 in ./venv/lib/python3.12/site-packages (from -r requirements.txt (line 18)) (0.1.6)\n",
            "Collecting mongoengine==0.28.2 (from -r requirements.txt (line 19))\n",
            "  Using cached mongoengine-0.28.2-py3-none-any.whl.metadata (6.6 kB)\n",
            "Requirement already satisfied: nest-asyncio==1.6.0 in ./venv/lib/python3.12/site-packages (from -r requirements.txt (line 20)) (1.6.0)\n",
            "Collecting numpy==1.26.4 (from -r requirements.txt (line 21))\n",
            "  Using cached numpy-1.26.4-cp312-cp312-macosx_11_0_arm64.whl.metadata (61 kB)\n",
            "Requirement already satisfied: packaging==24.0 in ./venv/lib/python3.12/site-packages (from -r requirements.txt (line 22)) (24.0)\n",
            "Collecting pandas==2.2.1 (from -r requirements.txt (line 23))\n",
            "  Using cached pandas-2.2.1-cp312-cp312-macosx_11_0_arm64.whl.metadata (19 kB)\n",
            "Requirement already satisfied: parso==0.8.4 in ./venv/lib/python3.12/site-packages (from -r requirements.txt (line 24)) (0.8.4)\n",
            "Requirement already satisfied: pexpect==4.9.0 in ./venv/lib/python3.12/site-packages (from -r requirements.txt (line 25)) (4.9.0)\n",
            "Collecting pillow==10.3.0 (from -r requirements.txt (line 26))\n",
            "  Using cached pillow-10.3.0-cp312-cp312-macosx_11_0_arm64.whl.metadata (9.2 kB)\n",
            "Requirement already satisfied: platformdirs==4.2.0 in ./venv/lib/python3.12/site-packages (from -r requirements.txt (line 27)) (4.2.0)\n",
            "Requirement already satisfied: prompt-toolkit==3.0.43 in ./venv/lib/python3.12/site-packages (from -r requirements.txt (line 28)) (3.0.43)\n",
            "Requirement already satisfied: psutil==5.9.8 in ./venv/lib/python3.12/site-packages (from -r requirements.txt (line 29)) (5.9.8)\n",
            "Requirement already satisfied: ptyprocess==0.7.0 in ./venv/lib/python3.12/site-packages (from -r requirements.txt (line 30)) (0.7.0)\n",
            "Requirement already satisfied: pure-eval==0.2.2 in ./venv/lib/python3.12/site-packages (from -r requirements.txt (line 31)) (0.2.2)\n",
            "Requirement already satisfied: Pygments==2.17.2 in ./venv/lib/python3.12/site-packages (from -r requirements.txt (line 32)) (2.17.2)\n",
            "Collecting pymongo==4.6.3 (from -r requirements.txt (line 33))\n",
            "  Using cached pymongo-4.6.3-cp312-cp312-macosx_10_9_universal2.whl.metadata (22 kB)\n",
            "Collecting pyparsing==3.1.2 (from -r requirements.txt (line 34))\n",
            "  Using cached pyparsing-3.1.2-py3-none-any.whl.metadata (5.1 kB)\n",
            "Requirement already satisfied: python-dateutil==2.9.0.post0 in ./venv/lib/python3.12/site-packages (from -r requirements.txt (line 35)) (2.9.0.post0)\n",
            "Collecting pytz==2024.1 (from -r requirements.txt (line 36))\n",
            "  Using cached pytz-2024.1-py2.py3-none-any.whl.metadata (22 kB)\n",
            "Requirement already satisfied: pyzmq==25.1.2 in ./venv/lib/python3.12/site-packages (from -r requirements.txt (line 37)) (25.1.2)\n",
            "Requirement already satisfied: six==1.16.0 in ./venv/lib/python3.12/site-packages (from -r requirements.txt (line 38)) (1.16.0)\n",
            "Requirement already satisfied: stack-data==0.6.3 in ./venv/lib/python3.12/site-packages (from -r requirements.txt (line 39)) (0.6.3)\n",
            "Requirement already satisfied: tornado==6.4 in ./venv/lib/python3.12/site-packages (from -r requirements.txt (line 40)) (6.4)\n",
            "Requirement already satisfied: traitlets==5.14.2 in ./venv/lib/python3.12/site-packages (from -r requirements.txt (line 41)) (5.14.2)\n",
            "Collecting tzdata==2024.1 (from -r requirements.txt (line 42))\n",
            "  Using cached tzdata-2024.1-py2.py3-none-any.whl.metadata (1.4 kB)\n",
            "Requirement already satisfied: wcwidth==0.2.13 in ./venv/lib/python3.12/site-packages (from -r requirements.txt (line 43)) (0.2.13)\n",
            "Using cached contourpy-1.2.1-cp312-cp312-macosx_11_0_arm64.whl (245 kB)\n",
            "Using cached cycler-0.12.1-py3-none-any.whl (8.3 kB)\n",
            "Using cached dnspython-2.6.1-py3-none-any.whl (307 kB)\n",
            "Using cached fonttools-4.51.0-cp312-cp312-macosx_10_9_universal2.whl (2.8 MB)\n",
            "Using cached kiwisolver-1.4.5-cp312-cp312-macosx_11_0_arm64.whl (64 kB)\n",
            "Using cached matplotlib-3.8.4-cp312-cp312-macosx_11_0_arm64.whl (7.5 MB)\n",
            "Using cached mongoengine-0.28.2-py3-none-any.whl (111 kB)\n",
            "Using cached numpy-1.26.4-cp312-cp312-macosx_11_0_arm64.whl (13.7 MB)\n",
            "Using cached pandas-2.2.1-cp312-cp312-macosx_11_0_arm64.whl (11.3 MB)\n",
            "Using cached pillow-10.3.0-cp312-cp312-macosx_11_0_arm64.whl (3.4 MB)\n",
            "Using cached pymongo-4.6.3-cp312-cp312-macosx_10_9_universal2.whl (533 kB)\n",
            "Using cached pyparsing-3.1.2-py3-none-any.whl (103 kB)\n",
            "Using cached pytz-2024.1-py2.py3-none-any.whl (505 kB)\n",
            "Using cached tzdata-2024.1-py2.py3-none-any.whl (345 kB)\n",
            "Installing collected packages: pytz, tzdata, pyparsing, pillow, numpy, kiwisolver, fonttools, dnspython, cycler, pymongo, pandas, contourpy, mongoengine, matplotlib\n",
            "Successfully installed contourpy-1.2.1 cycler-0.12.1 dnspython-2.6.1 fonttools-4.51.0 kiwisolver-1.4.5 matplotlib-3.8.4 mongoengine-0.28.2 numpy-1.26.4 pandas-2.2.1 pillow-10.3.0 pymongo-4.6.3 pyparsing-3.1.2 pytz-2024.1 tzdata-2024.1\n",
            "Note: you may need to restart the kernel to use updated packages.\n"
          ]
        }
      ],
      "source": [
        "%pip install -r requirements.txt"
      ]
    },
    {
      "cell_type": "markdown",
      "metadata": {
        "id": "1t50-JUIRDBE"
      },
      "source": [
        "# Import libraries"
      ]
    },
    {
      "cell_type": "code",
      "execution_count": 1,
      "metadata": {
        "id": "bJ_f-oVaze8G"
      },
      "outputs": [],
      "source": [
        "from mongoengine import *\n",
        "from pprint import pprint\n",
        "import pandas as pd\n",
        "import matplotlib.pyplot as plt"
      ]
    },
    {
      "cell_type": "markdown",
      "metadata": {
        "id": "BHGhoAB8RzTD"
      },
      "source": [
        "# Explore datasets"
      ]
    },
    {
      "cell_type": "markdown",
      "metadata": {},
      "source": [
        "### Crime codes"
      ]
    },
    {
      "cell_type": "markdown",
      "metadata": {},
      "source": [
        "Import crime code dataset"
      ]
    },
    {
      "cell_type": "code",
      "execution_count": 2,
      "metadata": {},
      "outputs": [
        {
          "name": "stdout",
          "output_type": "stream",
          "text": [
            "Size: 278\n",
            "Columns: 2\n",
            "['crm_cd' 'crm_cd_desc']\n"
          ]
        }
      ],
      "source": [
        "crime_code_data = pd.read_csv('crime-codes.csv')\n",
        "print(f'Size: {crime_code_data.size}\\nColumns: {crime_code_data.columns.values.size}\\n{crime_code_data.columns.values}')"
      ]
    },
    {
      "cell_type": "markdown",
      "metadata": {},
      "source": [
        "Get dataset summary"
      ]
    },
    {
      "cell_type": "code",
      "execution_count": 3,
      "metadata": {},
      "outputs": [
        {
          "data": {
            "text/html": [
              "<div>\n",
              "<style scoped>\n",
              "    .dataframe tbody tr th:only-of-type {\n",
              "        vertical-align: middle;\n",
              "    }\n",
              "\n",
              "    .dataframe tbody tr th {\n",
              "        vertical-align: top;\n",
              "    }\n",
              "\n",
              "    .dataframe thead th {\n",
              "        text-align: right;\n",
              "    }\n",
              "</style>\n",
              "<table border=\"1\" class=\"dataframe\">\n",
              "  <thead>\n",
              "    <tr style=\"text-align: right;\">\n",
              "      <th></th>\n",
              "      <th>crm_cd</th>\n",
              "      <th>crm_cd_desc</th>\n",
              "    </tr>\n",
              "  </thead>\n",
              "  <tbody>\n",
              "    <tr>\n",
              "      <th>count</th>\n",
              "      <td>139.000000</td>\n",
              "      <td>139</td>\n",
              "    </tr>\n",
              "    <tr>\n",
              "      <th>unique</th>\n",
              "      <td>NaN</td>\n",
              "      <td>139</td>\n",
              "    </tr>\n",
              "    <tr>\n",
              "      <th>top</th>\n",
              "      <td>NaN</td>\n",
              "      <td>MANSLAUGHTER, NEGLIGENT</td>\n",
              "    </tr>\n",
              "    <tr>\n",
              "      <th>freq</th>\n",
              "      <td>NaN</td>\n",
              "      <td>1</td>\n",
              "    </tr>\n",
              "    <tr>\n",
              "      <th>mean</th>\n",
              "      <td>626.395683</td>\n",
              "      <td>NaN</td>\n",
              "    </tr>\n",
              "    <tr>\n",
              "      <th>std</th>\n",
              "      <td>246.523557</td>\n",
              "      <td>NaN</td>\n",
              "    </tr>\n",
              "    <tr>\n",
              "      <th>min</th>\n",
              "      <td>110.000000</td>\n",
              "      <td>NaN</td>\n",
              "    </tr>\n",
              "    <tr>\n",
              "      <th>25%</th>\n",
              "      <td>436.500000</td>\n",
              "      <td>NaN</td>\n",
              "    </tr>\n",
              "    <tr>\n",
              "      <th>50%</th>\n",
              "      <td>652.000000</td>\n",
              "      <td>NaN</td>\n",
              "    </tr>\n",
              "    <tr>\n",
              "      <th>75%</th>\n",
              "      <td>867.500000</td>\n",
              "      <td>NaN</td>\n",
              "    </tr>\n",
              "    <tr>\n",
              "      <th>max</th>\n",
              "      <td>956.000000</td>\n",
              "      <td>NaN</td>\n",
              "    </tr>\n",
              "  </tbody>\n",
              "</table>\n",
              "</div>"
            ],
            "text/plain": [
              "            crm_cd              crm_cd_desc\n",
              "count   139.000000                      139\n",
              "unique         NaN                      139\n",
              "top            NaN  MANSLAUGHTER, NEGLIGENT\n",
              "freq           NaN                        1\n",
              "mean    626.395683                      NaN\n",
              "std     246.523557                      NaN\n",
              "min     110.000000                      NaN\n",
              "25%     436.500000                      NaN\n",
              "50%     652.000000                      NaN\n",
              "75%     867.500000                      NaN\n",
              "max     956.000000                      NaN"
            ]
          },
          "execution_count": 3,
          "metadata": {},
          "output_type": "execute_result"
        }
      ],
      "source": [
        "crime_code_data.describe(include='all')"
      ]
    },
    {
      "cell_type": "markdown",
      "metadata": {},
      "source": [
        "Get null/NA value count"
      ]
    },
    {
      "cell_type": "code",
      "execution_count": 4,
      "metadata": {},
      "outputs": [
        {
          "data": {
            "text/plain": [
              "crm_cd         0\n",
              "crm_cd_desc    0\n",
              "dtype: int64"
            ]
          },
          "execution_count": 4,
          "metadata": {},
          "output_type": "execute_result"
        }
      ],
      "source": [
        "crime_code_data.isnull().sum()"
      ]
    },
    {
      "cell_type": "markdown",
      "metadata": {},
      "source": [
        "### Weapon Codes"
      ]
    },
    {
      "cell_type": "markdown",
      "metadata": {},
      "source": [
        "Import weapon code dataset"
      ]
    },
    {
      "cell_type": "code",
      "execution_count": 5,
      "metadata": {},
      "outputs": [
        {
          "name": "stdout",
          "output_type": "stream",
          "text": [
            "Size: 158\n",
            "Columns: 2\n",
            "['weapon_used_cd' 'weapon_desc']\n"
          ]
        }
      ],
      "source": [
        "weapon_code_data = pd.read_csv('weapon-codes.csv')\n",
        "print(f'Size: {weapon_code_data.size}\\nColumns: {weapon_code_data.columns.values.size}\\n{weapon_code_data.columns.values}')"
      ]
    },
    {
      "cell_type": "markdown",
      "metadata": {},
      "source": [
        "Get dataset summary"
      ]
    },
    {
      "cell_type": "code",
      "execution_count": 6,
      "metadata": {},
      "outputs": [
        {
          "data": {
            "text/html": [
              "<div>\n",
              "<style scoped>\n",
              "    .dataframe tbody tr th:only-of-type {\n",
              "        vertical-align: middle;\n",
              "    }\n",
              "\n",
              "    .dataframe tbody tr th {\n",
              "        vertical-align: top;\n",
              "    }\n",
              "\n",
              "    .dataframe thead th {\n",
              "        text-align: right;\n",
              "    }\n",
              "</style>\n",
              "<table border=\"1\" class=\"dataframe\">\n",
              "  <thead>\n",
              "    <tr style=\"text-align: right;\">\n",
              "      <th></th>\n",
              "      <th>weapon_used_cd</th>\n",
              "      <th>weapon_desc</th>\n",
              "    </tr>\n",
              "  </thead>\n",
              "  <tbody>\n",
              "    <tr>\n",
              "      <th>count</th>\n",
              "      <td>79.000000</td>\n",
              "      <td>79</td>\n",
              "    </tr>\n",
              "    <tr>\n",
              "      <th>unique</th>\n",
              "      <td>NaN</td>\n",
              "      <td>79</td>\n",
              "    </tr>\n",
              "    <tr>\n",
              "      <th>top</th>\n",
              "      <td>NaN</td>\n",
              "      <td>TIRE IRON</td>\n",
              "    </tr>\n",
              "    <tr>\n",
              "      <th>freq</th>\n",
              "      <td>NaN</td>\n",
              "      <td>1</td>\n",
              "    </tr>\n",
              "    <tr>\n",
              "      <th>mean</th>\n",
              "      <td>261.936709</td>\n",
              "      <td>NaN</td>\n",
              "    </tr>\n",
              "    <tr>\n",
              "      <th>std</th>\n",
              "      <td>147.224523</td>\n",
              "      <td>NaN</td>\n",
              "    </tr>\n",
              "    <tr>\n",
              "      <th>min</th>\n",
              "      <td>101.000000</td>\n",
              "      <td>NaN</td>\n",
              "    </tr>\n",
              "    <tr>\n",
              "      <th>25%</th>\n",
              "      <td>120.500000</td>\n",
              "      <td>NaN</td>\n",
              "    </tr>\n",
              "    <tr>\n",
              "      <th>50%</th>\n",
              "      <td>214.000000</td>\n",
              "      <td>NaN</td>\n",
              "    </tr>\n",
              "    <tr>\n",
              "      <th>75%</th>\n",
              "      <td>310.500000</td>\n",
              "      <td>NaN</td>\n",
              "    </tr>\n",
              "    <tr>\n",
              "      <th>max</th>\n",
              "      <td>516.000000</td>\n",
              "      <td>NaN</td>\n",
              "    </tr>\n",
              "  </tbody>\n",
              "</table>\n",
              "</div>"
            ],
            "text/plain": [
              "        weapon_used_cd weapon_desc\n",
              "count        79.000000          79\n",
              "unique             NaN          79\n",
              "top                NaN   TIRE IRON\n",
              "freq               NaN           1\n",
              "mean        261.936709         NaN\n",
              "std         147.224523         NaN\n",
              "min         101.000000         NaN\n",
              "25%         120.500000         NaN\n",
              "50%         214.000000         NaN\n",
              "75%         310.500000         NaN\n",
              "max         516.000000         NaN"
            ]
          },
          "execution_count": 6,
          "metadata": {},
          "output_type": "execute_result"
        }
      ],
      "source": [
        "weapon_code_data.describe(include='all')"
      ]
    },
    {
      "cell_type": "markdown",
      "metadata": {},
      "source": [
        "Get null/NA value count"
      ]
    },
    {
      "cell_type": "code",
      "execution_count": 7,
      "metadata": {},
      "outputs": [
        {
          "data": {
            "text/plain": [
              "weapon_used_cd    0\n",
              "weapon_desc       0\n",
              "dtype: int64"
            ]
          },
          "execution_count": 7,
          "metadata": {},
          "output_type": "execute_result"
        }
      ],
      "source": [
        "weapon_code_data.isnull().sum()"
      ]
    },
    {
      "cell_type": "markdown",
      "metadata": {},
      "source": [
        "### Status Codes"
      ]
    },
    {
      "cell_type": "markdown",
      "metadata": {},
      "source": [
        "Import status code dataset"
      ]
    },
    {
      "cell_type": "code",
      "execution_count": 9,
      "metadata": {},
      "outputs": [
        {
          "name": "stdout",
          "output_type": "stream",
          "text": [
            "Size: 12\n",
            "Columns: 2\n",
            "['status' 'status_desc']\n"
          ]
        }
      ],
      "source": [
        "status_code_data = pd.read_csv('status-codes.csv')\n",
        "print(f'Size: {status_code_data.size}\\nColumns: {status_code_data.columns.values.size}\\n{status_code_data.columns.values}')"
      ]
    },
    {
      "cell_type": "markdown",
      "metadata": {},
      "source": [
        "Get dataset summary"
      ]
    },
    {
      "cell_type": "code",
      "execution_count": 10,
      "metadata": {},
      "outputs": [
        {
          "data": {
            "text/html": [
              "<div>\n",
              "<style scoped>\n",
              "    .dataframe tbody tr th:only-of-type {\n",
              "        vertical-align: middle;\n",
              "    }\n",
              "\n",
              "    .dataframe tbody tr th {\n",
              "        vertical-align: top;\n",
              "    }\n",
              "\n",
              "    .dataframe thead th {\n",
              "        text-align: right;\n",
              "    }\n",
              "</style>\n",
              "<table border=\"1\" class=\"dataframe\">\n",
              "  <thead>\n",
              "    <tr style=\"text-align: right;\">\n",
              "      <th></th>\n",
              "      <th>status</th>\n",
              "      <th>status_desc</th>\n",
              "    </tr>\n",
              "  </thead>\n",
              "  <tbody>\n",
              "    <tr>\n",
              "      <th>count</th>\n",
              "      <td>6</td>\n",
              "      <td>6</td>\n",
              "    </tr>\n",
              "    <tr>\n",
              "      <th>unique</th>\n",
              "      <td>6</td>\n",
              "      <td>6</td>\n",
              "    </tr>\n",
              "    <tr>\n",
              "      <th>top</th>\n",
              "      <td>AA</td>\n",
              "      <td>Adult Arrest</td>\n",
              "    </tr>\n",
              "    <tr>\n",
              "      <th>freq</th>\n",
              "      <td>1</td>\n",
              "      <td>1</td>\n",
              "    </tr>\n",
              "  </tbody>\n",
              "</table>\n",
              "</div>"
            ],
            "text/plain": [
              "       status   status_desc\n",
              "count       6             6\n",
              "unique      6             6\n",
              "top        AA  Adult Arrest\n",
              "freq        1             1"
            ]
          },
          "execution_count": 10,
          "metadata": {},
          "output_type": "execute_result"
        }
      ],
      "source": [
        "status_code_data.describe(include='all')"
      ]
    },
    {
      "cell_type": "markdown",
      "metadata": {},
      "source": [
        "Get null/NA value count"
      ]
    },
    {
      "cell_type": "code",
      "execution_count": 11,
      "metadata": {},
      "outputs": [
        {
          "data": {
            "text/plain": [
              "status         0\n",
              "status_desc    0\n",
              "dtype: int64"
            ]
          },
          "execution_count": 11,
          "metadata": {},
          "output_type": "execute_result"
        }
      ],
      "source": [
        "status_code_data.isnull().sum()"
      ]
    },
    {
      "cell_type": "markdown",
      "metadata": {},
      "source": [
        "### Premise Codes"
      ]
    },
    {
      "cell_type": "markdown",
      "metadata": {},
      "source": [
        "Import premise code dataset"
      ]
    },
    {
      "cell_type": "code",
      "execution_count": 12,
      "metadata": {},
      "outputs": [
        {
          "name": "stdout",
          "output_type": "stream",
          "text": [
            "Size: 614\n",
            "Columns: 2\n",
            "['premis_cd' 'premis_desc']\n"
          ]
        }
      ],
      "source": [
        "premise_code_data = pd.read_csv('premise-codes.csv')\n",
        "print(f'Size: {premise_code_data.size}\\nColumns: {premise_code_data.columns.values.size}\\n{premise_code_data.columns.values}')"
      ]
    },
    {
      "cell_type": "markdown",
      "metadata": {},
      "source": [
        "Get dataset summary"
      ]
    },
    {
      "cell_type": "code",
      "execution_count": 13,
      "metadata": {},
      "outputs": [
        {
          "data": {
            "text/html": [
              "<div>\n",
              "<style scoped>\n",
              "    .dataframe tbody tr th:only-of-type {\n",
              "        vertical-align: middle;\n",
              "    }\n",
              "\n",
              "    .dataframe tbody tr th {\n",
              "        vertical-align: top;\n",
              "    }\n",
              "\n",
              "    .dataframe thead th {\n",
              "        text-align: right;\n",
              "    }\n",
              "</style>\n",
              "<table border=\"1\" class=\"dataframe\">\n",
              "  <thead>\n",
              "    <tr style=\"text-align: right;\">\n",
              "      <th></th>\n",
              "      <th>premis_cd</th>\n",
              "      <th>premis_desc</th>\n",
              "    </tr>\n",
              "  </thead>\n",
              "  <tbody>\n",
              "    <tr>\n",
              "      <th>count</th>\n",
              "      <td>307.000000</td>\n",
              "      <td>307</td>\n",
              "    </tr>\n",
              "    <tr>\n",
              "      <th>unique</th>\n",
              "      <td>NaN</td>\n",
              "      <td>306</td>\n",
              "    </tr>\n",
              "    <tr>\n",
              "      <th>top</th>\n",
              "      <td>NaN</td>\n",
              "      <td>RETIRED (DUPLICATE) DO NOT USE THIS CODE</td>\n",
              "    </tr>\n",
              "    <tr>\n",
              "      <th>freq</th>\n",
              "      <td>NaN</td>\n",
              "      <td>2</td>\n",
              "    </tr>\n",
              "    <tr>\n",
              "      <th>mean</th>\n",
              "      <td>553.358306</td>\n",
              "      <td>NaN</td>\n",
              "    </tr>\n",
              "    <tr>\n",
              "      <th>std</th>\n",
              "      <td>311.925166</td>\n",
              "      <td>NaN</td>\n",
              "    </tr>\n",
              "    <tr>\n",
              "      <th>min</th>\n",
              "      <td>101.000000</td>\n",
              "      <td>NaN</td>\n",
              "    </tr>\n",
              "    <tr>\n",
              "      <th>25%</th>\n",
              "      <td>226.000000</td>\n",
              "      <td>NaN</td>\n",
              "    </tr>\n",
              "    <tr>\n",
              "      <th>50%</th>\n",
              "      <td>607.000000</td>\n",
              "      <td>NaN</td>\n",
              "    </tr>\n",
              "    <tr>\n",
              "      <th>75%</th>\n",
              "      <td>875.500000</td>\n",
              "      <td>NaN</td>\n",
              "    </tr>\n",
              "    <tr>\n",
              "      <th>max</th>\n",
              "      <td>971.000000</td>\n",
              "      <td>NaN</td>\n",
              "    </tr>\n",
              "  </tbody>\n",
              "</table>\n",
              "</div>"
            ],
            "text/plain": [
              "         premis_cd                               premis_desc\n",
              "count   307.000000                                       307\n",
              "unique         NaN                                       306\n",
              "top            NaN  RETIRED (DUPLICATE) DO NOT USE THIS CODE\n",
              "freq           NaN                                         2\n",
              "mean    553.358306                                       NaN\n",
              "std     311.925166                                       NaN\n",
              "min     101.000000                                       NaN\n",
              "25%     226.000000                                       NaN\n",
              "50%     607.000000                                       NaN\n",
              "75%     875.500000                                       NaN\n",
              "max     971.000000                                       NaN"
            ]
          },
          "execution_count": 13,
          "metadata": {},
          "output_type": "execute_result"
        }
      ],
      "source": [
        "premise_code_data.describe(include='all')"
      ]
    },
    {
      "cell_type": "markdown",
      "metadata": {},
      "source": [
        "Get null/NA value count"
      ]
    },
    {
      "cell_type": "code",
      "execution_count": 14,
      "metadata": {},
      "outputs": [
        {
          "data": {
            "text/plain": [
              "premis_cd      0\n",
              "premis_desc    0\n",
              "dtype: int64"
            ]
          },
          "execution_count": 14,
          "metadata": {},
          "output_type": "execute_result"
        }
      ],
      "source": [
        "premise_code_data.isnull().sum()"
      ]
    },
    {
      "cell_type": "markdown",
      "metadata": {},
      "source": [
        "### Area Codes"
      ]
    },
    {
      "cell_type": "markdown",
      "metadata": {},
      "source": [
        "Import area code dataset"
      ]
    },
    {
      "cell_type": "code",
      "execution_count": 15,
      "metadata": {},
      "outputs": [
        {
          "name": "stdout",
          "output_type": "stream",
          "text": [
            "Size: 42\n",
            "Columns: 2\n",
            "['area' 'area_name']\n"
          ]
        }
      ],
      "source": [
        "area_code_data = pd.read_csv('area-codes.csv')\n",
        "print(f'Size: {area_code_data.size}\\nColumns: {area_code_data.columns.values.size}\\n{area_code_data.columns.values}')"
      ]
    },
    {
      "cell_type": "markdown",
      "metadata": {},
      "source": [
        "Get dataset summary"
      ]
    },
    {
      "cell_type": "code",
      "execution_count": 16,
      "metadata": {},
      "outputs": [
        {
          "data": {
            "text/html": [
              "<div>\n",
              "<style scoped>\n",
              "    .dataframe tbody tr th:only-of-type {\n",
              "        vertical-align: middle;\n",
              "    }\n",
              "\n",
              "    .dataframe tbody tr th {\n",
              "        vertical-align: top;\n",
              "    }\n",
              "\n",
              "    .dataframe thead th {\n",
              "        text-align: right;\n",
              "    }\n",
              "</style>\n",
              "<table border=\"1\" class=\"dataframe\">\n",
              "  <thead>\n",
              "    <tr style=\"text-align: right;\">\n",
              "      <th></th>\n",
              "      <th>area</th>\n",
              "      <th>area_name</th>\n",
              "    </tr>\n",
              "  </thead>\n",
              "  <tbody>\n",
              "    <tr>\n",
              "      <th>count</th>\n",
              "      <td>21.000000</td>\n",
              "      <td>21</td>\n",
              "    </tr>\n",
              "    <tr>\n",
              "      <th>unique</th>\n",
              "      <td>NaN</td>\n",
              "      <td>21</td>\n",
              "    </tr>\n",
              "    <tr>\n",
              "      <th>top</th>\n",
              "      <td>NaN</td>\n",
              "      <td>Central</td>\n",
              "    </tr>\n",
              "    <tr>\n",
              "      <th>freq</th>\n",
              "      <td>NaN</td>\n",
              "      <td>1</td>\n",
              "    </tr>\n",
              "    <tr>\n",
              "      <th>mean</th>\n",
              "      <td>11.000000</td>\n",
              "      <td>NaN</td>\n",
              "    </tr>\n",
              "    <tr>\n",
              "      <th>std</th>\n",
              "      <td>6.204837</td>\n",
              "      <td>NaN</td>\n",
              "    </tr>\n",
              "    <tr>\n",
              "      <th>min</th>\n",
              "      <td>1.000000</td>\n",
              "      <td>NaN</td>\n",
              "    </tr>\n",
              "    <tr>\n",
              "      <th>25%</th>\n",
              "      <td>6.000000</td>\n",
              "      <td>NaN</td>\n",
              "    </tr>\n",
              "    <tr>\n",
              "      <th>50%</th>\n",
              "      <td>11.000000</td>\n",
              "      <td>NaN</td>\n",
              "    </tr>\n",
              "    <tr>\n",
              "      <th>75%</th>\n",
              "      <td>16.000000</td>\n",
              "      <td>NaN</td>\n",
              "    </tr>\n",
              "    <tr>\n",
              "      <th>max</th>\n",
              "      <td>21.000000</td>\n",
              "      <td>NaN</td>\n",
              "    </tr>\n",
              "  </tbody>\n",
              "</table>\n",
              "</div>"
            ],
            "text/plain": [
              "             area area_name\n",
              "count   21.000000        21\n",
              "unique        NaN        21\n",
              "top           NaN   Central\n",
              "freq          NaN         1\n",
              "mean    11.000000       NaN\n",
              "std      6.204837       NaN\n",
              "min      1.000000       NaN\n",
              "25%      6.000000       NaN\n",
              "50%     11.000000       NaN\n",
              "75%     16.000000       NaN\n",
              "max     21.000000       NaN"
            ]
          },
          "execution_count": 16,
          "metadata": {},
          "output_type": "execute_result"
        }
      ],
      "source": [
        "area_code_data.describe(include='all')"
      ]
    },
    {
      "cell_type": "markdown",
      "metadata": {},
      "source": [
        "Get null/NA value count"
      ]
    },
    {
      "cell_type": "code",
      "execution_count": 17,
      "metadata": {},
      "outputs": [
        {
          "data": {
            "text/plain": [
              "area         0\n",
              "area_name    0\n",
              "dtype: int64"
            ]
          },
          "execution_count": 17,
          "metadata": {},
          "output_type": "execute_result"
        }
      ],
      "source": [
        "area_code_data.isnull().sum()"
      ]
    },
    {
      "cell_type": "markdown",
      "metadata": {},
      "source": [
        "### MO Codes"
      ]
    },
    {
      "cell_type": "markdown",
      "metadata": {},
      "source": [
        "Import MO code dataset"
      ]
    },
    {
      "cell_type": "code",
      "execution_count": 18,
      "metadata": {},
      "outputs": [
        {
          "name": "stdout",
          "output_type": "stream",
          "text": [
            "Size: 1560\n",
            "Columns: 2\n",
            "['code' 'description']\n"
          ]
        }
      ],
      "source": [
        "mo_data = pd.read_csv('mo-codes.csv', delimiter='|')\n",
        "print(f'Size: {mo_data.size}\\nColumns: {mo_data.columns.values.size}\\n{mo_data.columns.values}')"
      ]
    },
    {
      "cell_type": "markdown",
      "metadata": {},
      "source": [
        "Get dataset summary"
      ]
    },
    {
      "cell_type": "code",
      "execution_count": 19,
      "metadata": {},
      "outputs": [
        {
          "data": {
            "text/html": [
              "<div>\n",
              "<style scoped>\n",
              "    .dataframe tbody tr th:only-of-type {\n",
              "        vertical-align: middle;\n",
              "    }\n",
              "\n",
              "    .dataframe tbody tr th {\n",
              "        vertical-align: top;\n",
              "    }\n",
              "\n",
              "    .dataframe thead th {\n",
              "        text-align: right;\n",
              "    }\n",
              "</style>\n",
              "<table border=\"1\" class=\"dataframe\">\n",
              "  <thead>\n",
              "    <tr style=\"text-align: right;\">\n",
              "      <th></th>\n",
              "      <th>code</th>\n",
              "      <th>description</th>\n",
              "    </tr>\n",
              "  </thead>\n",
              "  <tbody>\n",
              "    <tr>\n",
              "      <th>count</th>\n",
              "      <td>780</td>\n",
              "      <td>780</td>\n",
              "    </tr>\n",
              "    <tr>\n",
              "      <th>unique</th>\n",
              "      <td>780</td>\n",
              "      <td>775</td>\n",
              "    </tr>\n",
              "    <tr>\n",
              "      <th>top</th>\n",
              "      <td>0100</td>\n",
              "      <td>Pipeline</td>\n",
              "    </tr>\n",
              "    <tr>\n",
              "      <th>freq</th>\n",
              "      <td>1</td>\n",
              "      <td>2</td>\n",
              "    </tr>\n",
              "  </tbody>\n",
              "</table>\n",
              "</div>"
            ],
            "text/plain": [
              "        code description\n",
              "count    780         780\n",
              "unique   780         775\n",
              "top     0100    Pipeline\n",
              "freq       1           2"
            ]
          },
          "execution_count": 19,
          "metadata": {},
          "output_type": "execute_result"
        }
      ],
      "source": [
        "mo_data.describe(include='all')"
      ]
    },
    {
      "cell_type": "markdown",
      "metadata": {},
      "source": [
        "Get null/NA value count"
      ]
    },
    {
      "cell_type": "code",
      "execution_count": 20,
      "metadata": {},
      "outputs": [
        {
          "data": {
            "text/plain": [
              "code           0\n",
              "description    0\n",
              "dtype: int64"
            ]
          },
          "execution_count": 20,
          "metadata": {},
          "output_type": "execute_result"
        }
      ],
      "source": [
        "mo_data.isnull().sum()"
      ]
    },
    {
      "cell_type": "markdown",
      "metadata": {},
      "source": [
        "### LA Crime Data"
      ]
    },
    {
      "cell_type": "markdown",
      "metadata": {
        "id": "WDqIAVEpbdmP"
      },
      "source": [
        "Import crime dataset"
      ]
    },
    {
      "cell_type": "code",
      "execution_count": 21,
      "metadata": {
        "colab": {
          "base_uri": "https://localhost:8080/"
        },
        "id": "Dkkb5TRx1xgM",
        "outputId": "6b609abd-08a9-4ef7-f9e2-d4e30bb1f805"
      },
      "outputs": [
        {
          "name": "stdout",
          "output_type": "stream",
          "text": [
            "Size: 56000\n",
            "Columns: 28\n",
            "['dr_no' 'date_rptd' 'date_occ' 'time_occ' 'area' 'area_name'\n",
            " 'rpt_dist_no' 'part_1-2' 'crm_cd' 'crm_cd_desc' 'mocodes' 'vict_age'\n",
            " 'vict_sex' 'vict_descent' 'premis_cd' 'premis_desc' 'weapon_used_cd'\n",
            " 'weapon_desc' 'status' 'status_desc' 'crm_cd_1' 'crm_cd_2' 'crm_cd_3'\n",
            " 'crm_cd_4' 'location' 'cross_street' 'lat' 'lon']\n"
          ]
        }
      ],
      "source": [
        "crime_data = pd.read_csv('crime-dataset.csv', nrows=2000)\n",
        "crime_data.rename(columns=lambda x: x.lower().strip().replace(' ', '_'), inplace=True)\n",
        "print(f'Size: {crime_data.size}\\nColumns: {crime_data.columns.values.size}\\n{crime_data.columns.values}')"
      ]
    },
    {
      "cell_type": "markdown",
      "metadata": {
        "id": "7pgLeSrtWXlN"
      },
      "source": [
        "Drop columns not required for web application"
      ]
    },
    {
      "cell_type": "code",
      "execution_count": 22,
      "metadata": {
        "colab": {
          "base_uri": "https://localhost:8080/"
        },
        "id": "EIpX4WcNWbZM",
        "outputId": "d62eb3ed-b178-4d17-90e1-d4de5776147f"
      },
      "outputs": [
        {
          "name": "stdout",
          "output_type": "stream",
          "text": [
            "Size: 46000\n",
            "Columns: 23\n",
            "['dr_no' 'date_rptd' 'date_occ' 'time_occ' 'area' 'area_name'\n",
            " 'rpt_dist_no' 'crm_cd' 'crm_cd_desc' 'mocodes' 'vict_age' 'vict_sex'\n",
            " 'vict_descent' 'premis_cd' 'premis_desc' 'weapon_used_cd' 'weapon_desc'\n",
            " 'status' 'status_desc' 'location' 'cross_street' 'lat' 'lon']\n"
          ]
        }
      ],
      "source": [
        "crime_data.drop(labels=['part_1-2', 'crm_cd_1', 'crm_cd_2', 'crm_cd_3', 'crm_cd_4'], axis=1, inplace=True)\n",
        "print(f'Size: {crime_data.size}\\nColumns: {crime_data.columns.values.size}\\n{crime_data.columns.values}')"
      ]
    },
    {
      "cell_type": "markdown",
      "metadata": {
        "id": "1LjTqDESbtz3"
      },
      "source": [
        "Get dataset summary"
      ]
    },
    {
      "cell_type": "code",
      "execution_count": 23,
      "metadata": {
        "colab": {
          "base_uri": "https://localhost:8080/",
          "height": 565
        },
        "id": "3fLZUeiLbvnh",
        "outputId": "14144a0a-fa7d-4253-b828-6e5204a0038b"
      },
      "outputs": [
        {
          "data": {
            "text/html": [
              "<div>\n",
              "<style scoped>\n",
              "    .dataframe tbody tr th:only-of-type {\n",
              "        vertical-align: middle;\n",
              "    }\n",
              "\n",
              "    .dataframe tbody tr th {\n",
              "        vertical-align: top;\n",
              "    }\n",
              "\n",
              "    .dataframe thead th {\n",
              "        text-align: right;\n",
              "    }\n",
              "</style>\n",
              "<table border=\"1\" class=\"dataframe\">\n",
              "  <thead>\n",
              "    <tr style=\"text-align: right;\">\n",
              "      <th></th>\n",
              "      <th>dr_no</th>\n",
              "      <th>date_rptd</th>\n",
              "      <th>date_occ</th>\n",
              "      <th>time_occ</th>\n",
              "      <th>area</th>\n",
              "      <th>area_name</th>\n",
              "      <th>rpt_dist_no</th>\n",
              "      <th>crm_cd</th>\n",
              "      <th>crm_cd_desc</th>\n",
              "      <th>mocodes</th>\n",
              "      <th>...</th>\n",
              "      <th>premis_cd</th>\n",
              "      <th>premis_desc</th>\n",
              "      <th>weapon_used_cd</th>\n",
              "      <th>weapon_desc</th>\n",
              "      <th>status</th>\n",
              "      <th>status_desc</th>\n",
              "      <th>location</th>\n",
              "      <th>cross_street</th>\n",
              "      <th>lat</th>\n",
              "      <th>lon</th>\n",
              "    </tr>\n",
              "  </thead>\n",
              "  <tbody>\n",
              "    <tr>\n",
              "      <th>count</th>\n",
              "      <td>2.000000e+03</td>\n",
              "      <td>2000</td>\n",
              "      <td>2000</td>\n",
              "      <td>2000.000000</td>\n",
              "      <td>2000.000000</td>\n",
              "      <td>2000</td>\n",
              "      <td>2000.000000</td>\n",
              "      <td>2000.000000</td>\n",
              "      <td>2000</td>\n",
              "      <td>1817</td>\n",
              "      <td>...</td>\n",
              "      <td>2000.000000</td>\n",
              "      <td>2000</td>\n",
              "      <td>432.000000</td>\n",
              "      <td>432</td>\n",
              "      <td>2000</td>\n",
              "      <td>2000</td>\n",
              "      <td>2000</td>\n",
              "      <td>118</td>\n",
              "      <td>2000.000000</td>\n",
              "      <td>2000.000000</td>\n",
              "    </tr>\n",
              "    <tr>\n",
              "      <th>unique</th>\n",
              "      <td>NaN</td>\n",
              "      <td>884</td>\n",
              "      <td>355</td>\n",
              "      <td>NaN</td>\n",
              "      <td>NaN</td>\n",
              "      <td>21</td>\n",
              "      <td>NaN</td>\n",
              "      <td>NaN</td>\n",
              "      <td>75</td>\n",
              "      <td>1017</td>\n",
              "      <td>...</td>\n",
              "      <td>NaN</td>\n",
              "      <td>88</td>\n",
              "      <td>NaN</td>\n",
              "      <td>21</td>\n",
              "      <td>5</td>\n",
              "      <td>5</td>\n",
              "      <td>1797</td>\n",
              "      <td>109</td>\n",
              "      <td>NaN</td>\n",
              "      <td>NaN</td>\n",
              "    </tr>\n",
              "    <tr>\n",
              "      <th>top</th>\n",
              "      <td>NaN</td>\n",
              "      <td>03/21/2022 12:00:00 AM</td>\n",
              "      <td>01/01/2020 12:00:00 AM</td>\n",
              "      <td>NaN</td>\n",
              "      <td>NaN</td>\n",
              "      <td>77th Street</td>\n",
              "      <td>NaN</td>\n",
              "      <td>NaN</td>\n",
              "      <td>THEFT OF IDENTITY</td>\n",
              "      <td>1822</td>\n",
              "      <td>...</td>\n",
              "      <td>NaN</td>\n",
              "      <td>SINGLE FAMILY DWELLING</td>\n",
              "      <td>NaN</td>\n",
              "      <td>STRONG-ARM (HANDS, FIST, FEET OR BODILY FORCE)</td>\n",
              "      <td>IC</td>\n",
              "      <td>Invest Cont</td>\n",
              "      <td>11300    OTSEGO                       ST</td>\n",
              "      <td>VERMONT</td>\n",
              "      <td>NaN</td>\n",
              "      <td>NaN</td>\n",
              "    </tr>\n",
              "    <tr>\n",
              "      <th>freq</th>\n",
              "      <td>NaN</td>\n",
              "      <td>12</td>\n",
              "      <td>179</td>\n",
              "      <td>NaN</td>\n",
              "      <td>NaN</td>\n",
              "      <td>182</td>\n",
              "      <td>NaN</td>\n",
              "      <td>NaN</td>\n",
              "      <td>933</td>\n",
              "      <td>71</td>\n",
              "      <td>...</td>\n",
              "      <td>NaN</td>\n",
              "      <td>775</td>\n",
              "      <td>NaN</td>\n",
              "      <td>331</td>\n",
              "      <td>1731</td>\n",
              "      <td>1731</td>\n",
              "      <td>8</td>\n",
              "      <td>3</td>\n",
              "      <td>NaN</td>\n",
              "      <td>NaN</td>\n",
              "    </tr>\n",
              "    <tr>\n",
              "      <th>mean</th>\n",
              "      <td>2.221031e+08</td>\n",
              "      <td>NaN</td>\n",
              "      <td>NaN</td>\n",
              "      <td>1167.953000</td>\n",
              "      <td>11.423500</td>\n",
              "      <td>NaN</td>\n",
              "      <td>1188.237000</td>\n",
              "      <td>475.453000</td>\n",
              "      <td>NaN</td>\n",
              "      <td>NaN</td>\n",
              "      <td>...</td>\n",
              "      <td>440.180000</td>\n",
              "      <td>NaN</td>\n",
              "      <td>397.254630</td>\n",
              "      <td>NaN</td>\n",
              "      <td>NaN</td>\n",
              "      <td>NaN</td>\n",
              "      <td>NaN</td>\n",
              "      <td>NaN</td>\n",
              "      <td>34.062515</td>\n",
              "      <td>-118.304475</td>\n",
              "    </tr>\n",
              "    <tr>\n",
              "      <th>std</th>\n",
              "      <td>9.075607e+06</td>\n",
              "      <td>NaN</td>\n",
              "      <td>NaN</td>\n",
              "      <td>631.022535</td>\n",
              "      <td>5.915627</td>\n",
              "      <td>NaN</td>\n",
              "      <td>592.038366</td>\n",
              "      <td>211.859531</td>\n",
              "      <td>NaN</td>\n",
              "      <td>NaN</td>\n",
              "      <td>...</td>\n",
              "      <td>179.751442</td>\n",
              "      <td>NaN</td>\n",
              "      <td>78.557352</td>\n",
              "      <td>NaN</td>\n",
              "      <td>NaN</td>\n",
              "      <td>NaN</td>\n",
              "      <td>NaN</td>\n",
              "      <td>NaN</td>\n",
              "      <td>0.770723</td>\n",
              "      <td>2.648768</td>\n",
              "    </tr>\n",
              "    <tr>\n",
              "      <th>min</th>\n",
              "      <td>1.903265e+08</td>\n",
              "      <td>NaN</td>\n",
              "      <td>NaN</td>\n",
              "      <td>1.000000</td>\n",
              "      <td>1.000000</td>\n",
              "      <td>NaN</td>\n",
              "      <td>101.000000</td>\n",
              "      <td>121.000000</td>\n",
              "      <td>NaN</td>\n",
              "      <td>NaN</td>\n",
              "      <td>...</td>\n",
              "      <td>101.000000</td>\n",
              "      <td>NaN</td>\n",
              "      <td>102.000000</td>\n",
              "      <td>NaN</td>\n",
              "      <td>NaN</td>\n",
              "      <td>NaN</td>\n",
              "      <td>NaN</td>\n",
              "      <td>NaN</td>\n",
              "      <td>0.000000</td>\n",
              "      <td>-118.656900</td>\n",
              "    </tr>\n",
              "    <tr>\n",
              "      <th>25%</th>\n",
              "      <td>2.205057e+08</td>\n",
              "      <td>NaN</td>\n",
              "      <td>NaN</td>\n",
              "      <td>800.000000</td>\n",
              "      <td>7.000000</td>\n",
              "      <td>NaN</td>\n",
              "      <td>711.000000</td>\n",
              "      <td>354.000000</td>\n",
              "      <td>NaN</td>\n",
              "      <td>NaN</td>\n",
              "      <td>...</td>\n",
              "      <td>501.000000</td>\n",
              "      <td>NaN</td>\n",
              "      <td>400.000000</td>\n",
              "      <td>NaN</td>\n",
              "      <td>NaN</td>\n",
              "      <td>NaN</td>\n",
              "      <td>NaN</td>\n",
              "      <td>NaN</td>\n",
              "      <td>34.003700</td>\n",
              "      <td>-118.434675</td>\n",
              "    </tr>\n",
              "    <tr>\n",
              "      <th>50%</th>\n",
              "      <td>2.215124e+08</td>\n",
              "      <td>NaN</td>\n",
              "      <td>NaN</td>\n",
              "      <td>1200.000000</td>\n",
              "      <td>12.000000</td>\n",
              "      <td>NaN</td>\n",
              "      <td>1243.000000</td>\n",
              "      <td>354.000000</td>\n",
              "      <td>NaN</td>\n",
              "      <td>NaN</td>\n",
              "      <td>...</td>\n",
              "      <td>501.000000</td>\n",
              "      <td>NaN</td>\n",
              "      <td>400.000000</td>\n",
              "      <td>NaN</td>\n",
              "      <td>NaN</td>\n",
              "      <td>NaN</td>\n",
              "      <td>NaN</td>\n",
              "      <td>NaN</td>\n",
              "      <td>34.062800</td>\n",
              "      <td>-118.335200</td>\n",
              "    </tr>\n",
              "    <tr>\n",
              "      <th>75%</th>\n",
              "      <td>2.307103e+08</td>\n",
              "      <td>NaN</td>\n",
              "      <td>NaN</td>\n",
              "      <td>1605.000000</td>\n",
              "      <td>16.000000</td>\n",
              "      <td>NaN</td>\n",
              "      <td>1693.500000</td>\n",
              "      <td>626.000000</td>\n",
              "      <td>NaN</td>\n",
              "      <td>NaN</td>\n",
              "      <td>...</td>\n",
              "      <td>502.000000</td>\n",
              "      <td>NaN</td>\n",
              "      <td>400.000000</td>\n",
              "      <td>NaN</td>\n",
              "      <td>NaN</td>\n",
              "      <td>NaN</td>\n",
              "      <td>NaN</td>\n",
              "      <td>NaN</td>\n",
              "      <td>34.177525</td>\n",
              "      <td>-118.281400</td>\n",
              "    </tr>\n",
              "    <tr>\n",
              "      <th>max</th>\n",
              "      <td>2.420047e+08</td>\n",
              "      <td>NaN</td>\n",
              "      <td>NaN</td>\n",
              "      <td>2359.000000</td>\n",
              "      <td>21.000000</td>\n",
              "      <td>NaN</td>\n",
              "      <td>2198.000000</td>\n",
              "      <td>956.000000</td>\n",
              "      <td>NaN</td>\n",
              "      <td>NaN</td>\n",
              "      <td>...</td>\n",
              "      <td>943.000000</td>\n",
              "      <td>NaN</td>\n",
              "      <td>515.000000</td>\n",
              "      <td>NaN</td>\n",
              "      <td>NaN</td>\n",
              "      <td>NaN</td>\n",
              "      <td>NaN</td>\n",
              "      <td>NaN</td>\n",
              "      <td>34.324800</td>\n",
              "      <td>0.000000</td>\n",
              "    </tr>\n",
              "  </tbody>\n",
              "</table>\n",
              "<p>11 rows × 23 columns</p>\n",
              "</div>"
            ],
            "text/plain": [
              "               dr_no               date_rptd                date_occ  \\\n",
              "count   2.000000e+03                    2000                    2000   \n",
              "unique           NaN                     884                     355   \n",
              "top              NaN  03/21/2022 12:00:00 AM  01/01/2020 12:00:00 AM   \n",
              "freq             NaN                      12                     179   \n",
              "mean    2.221031e+08                     NaN                     NaN   \n",
              "std     9.075607e+06                     NaN                     NaN   \n",
              "min     1.903265e+08                     NaN                     NaN   \n",
              "25%     2.205057e+08                     NaN                     NaN   \n",
              "50%     2.215124e+08                     NaN                     NaN   \n",
              "75%     2.307103e+08                     NaN                     NaN   \n",
              "max     2.420047e+08                     NaN                     NaN   \n",
              "\n",
              "           time_occ         area    area_name  rpt_dist_no       crm_cd  \\\n",
              "count   2000.000000  2000.000000         2000  2000.000000  2000.000000   \n",
              "unique          NaN          NaN           21          NaN          NaN   \n",
              "top             NaN          NaN  77th Street          NaN          NaN   \n",
              "freq            NaN          NaN          182          NaN          NaN   \n",
              "mean    1167.953000    11.423500          NaN  1188.237000   475.453000   \n",
              "std      631.022535     5.915627          NaN   592.038366   211.859531   \n",
              "min        1.000000     1.000000          NaN   101.000000   121.000000   \n",
              "25%      800.000000     7.000000          NaN   711.000000   354.000000   \n",
              "50%     1200.000000    12.000000          NaN  1243.000000   354.000000   \n",
              "75%     1605.000000    16.000000          NaN  1693.500000   626.000000   \n",
              "max     2359.000000    21.000000          NaN  2198.000000   956.000000   \n",
              "\n",
              "              crm_cd_desc mocodes  ...    premis_cd             premis_desc  \\\n",
              "count                2000    1817  ...  2000.000000                    2000   \n",
              "unique                 75    1017  ...          NaN                      88   \n",
              "top     THEFT OF IDENTITY    1822  ...          NaN  SINGLE FAMILY DWELLING   \n",
              "freq                  933      71  ...          NaN                     775   \n",
              "mean                  NaN     NaN  ...   440.180000                     NaN   \n",
              "std                   NaN     NaN  ...   179.751442                     NaN   \n",
              "min                   NaN     NaN  ...   101.000000                     NaN   \n",
              "25%                   NaN     NaN  ...   501.000000                     NaN   \n",
              "50%                   NaN     NaN  ...   501.000000                     NaN   \n",
              "75%                   NaN     NaN  ...   502.000000                     NaN   \n",
              "max                   NaN     NaN  ...   943.000000                     NaN   \n",
              "\n",
              "       weapon_used_cd                                     weapon_desc status  \\\n",
              "count      432.000000                                             432   2000   \n",
              "unique            NaN                                              21      5   \n",
              "top               NaN  STRONG-ARM (HANDS, FIST, FEET OR BODILY FORCE)     IC   \n",
              "freq              NaN                                             331   1731   \n",
              "mean       397.254630                                             NaN    NaN   \n",
              "std         78.557352                                             NaN    NaN   \n",
              "min        102.000000                                             NaN    NaN   \n",
              "25%        400.000000                                             NaN    NaN   \n",
              "50%        400.000000                                             NaN    NaN   \n",
              "75%        400.000000                                             NaN    NaN   \n",
              "max        515.000000                                             NaN    NaN   \n",
              "\n",
              "        status_desc                                  location cross_street  \\\n",
              "count          2000                                      2000          118   \n",
              "unique            5                                      1797          109   \n",
              "top     Invest Cont  11300    OTSEGO                       ST      VERMONT   \n",
              "freq           1731                                         8            3   \n",
              "mean            NaN                                       NaN          NaN   \n",
              "std             NaN                                       NaN          NaN   \n",
              "min             NaN                                       NaN          NaN   \n",
              "25%             NaN                                       NaN          NaN   \n",
              "50%             NaN                                       NaN          NaN   \n",
              "75%             NaN                                       NaN          NaN   \n",
              "max             NaN                                       NaN          NaN   \n",
              "\n",
              "                lat          lon  \n",
              "count   2000.000000  2000.000000  \n",
              "unique          NaN          NaN  \n",
              "top             NaN          NaN  \n",
              "freq            NaN          NaN  \n",
              "mean      34.062515  -118.304475  \n",
              "std        0.770723     2.648768  \n",
              "min        0.000000  -118.656900  \n",
              "25%       34.003700  -118.434675  \n",
              "50%       34.062800  -118.335200  \n",
              "75%       34.177525  -118.281400  \n",
              "max       34.324800     0.000000  \n",
              "\n",
              "[11 rows x 23 columns]"
            ]
          },
          "execution_count": 23,
          "metadata": {},
          "output_type": "execute_result"
        }
      ],
      "source": [
        "crime_data.describe(include='all')"
      ]
    },
    {
      "cell_type": "markdown",
      "metadata": {
        "id": "h6kahSHVbiKA"
      },
      "source": [
        "Get null/NA value count"
      ]
    },
    {
      "cell_type": "code",
      "execution_count": 24,
      "metadata": {
        "colab": {
          "base_uri": "https://localhost:8080/"
        },
        "id": "kzeWg_4ibVTt",
        "outputId": "15ad1029-a579-4f4a-cd48-373e30fea775"
      },
      "outputs": [
        {
          "data": {
            "text/plain": [
              "dr_no                0\n",
              "date_rptd            0\n",
              "date_occ             0\n",
              "time_occ             0\n",
              "area                 0\n",
              "area_name            0\n",
              "rpt_dist_no          0\n",
              "crm_cd               0\n",
              "crm_cd_desc          0\n",
              "mocodes            183\n",
              "vict_age             0\n",
              "vict_sex           112\n",
              "vict_descent       112\n",
              "premis_cd            0\n",
              "premis_desc          0\n",
              "weapon_used_cd    1568\n",
              "weapon_desc       1568\n",
              "status               0\n",
              "status_desc          0\n",
              "location             0\n",
              "cross_street      1882\n",
              "lat                  0\n",
              "lon                  0\n",
              "dtype: int64"
            ]
          },
          "execution_count": 24,
          "metadata": {},
          "output_type": "execute_result"
        }
      ],
      "source": [
        "crime_data.isnull().sum()"
      ]
    },
    {
      "cell_type": "markdown",
      "metadata": {},
      "source": [
        "Fill null/NA values"
      ]
    },
    {
      "cell_type": "code",
      "execution_count": 25,
      "metadata": {},
      "outputs": [
        {
          "data": {
            "text/plain": [
              "dr_no             0\n",
              "date_rptd         0\n",
              "date_occ          0\n",
              "time_occ          0\n",
              "area              0\n",
              "area_name         0\n",
              "rpt_dist_no       0\n",
              "crm_cd            0\n",
              "crm_cd_desc       0\n",
              "mocodes           0\n",
              "vict_age          0\n",
              "vict_sex          0\n",
              "vict_descent      0\n",
              "premis_cd         0\n",
              "premis_desc       0\n",
              "weapon_used_cd    0\n",
              "weapon_desc       0\n",
              "status            0\n",
              "status_desc       0\n",
              "location          0\n",
              "cross_street      0\n",
              "lat               0\n",
              "lon               0\n",
              "dtype: int64"
            ]
          },
          "execution_count": 25,
          "metadata": {},
          "output_type": "execute_result"
        }
      ],
      "source": [
        "crime_data.fillna({'mocodes': 0}, inplace=True)\n",
        "crime_data.fillna({'vict_sex': ''}, inplace=True)\n",
        "crime_data.fillna({'vict_descent': ''}, inplace=True)\n",
        "crime_data.fillna({'premis_desc': ''}, inplace=True)\n",
        "crime_data.fillna({'weapon_used_cd': 0}, inplace=True)\n",
        "crime_data.fillna({'weapon_desc': ''}, inplace=True)\n",
        "crime_data.fillna({'cross_street': ''}, inplace=True)\n",
        "crime_data.isnull().sum()"
      ]
    },
    {
      "cell_type": "markdown",
      "metadata": {},
      "source": [
        "# Define Schemas"
      ]
    },
    {
      "cell_type": "code",
      "execution_count": 26,
      "metadata": {},
      "outputs": [],
      "source": [
        "class Area(Document):\n",
        "    area = IntField(required=True)\n",
        "    area_name = StringField(required=True)\n",
        "\n",
        "class ModusOperandi(Document):\n",
        "    code = IntField(required=True)\n",
        "    desc = StringField(required=True)\n",
        "\n",
        "class Premise(Document):\n",
        "    code = IntField(required=True)\n",
        "    desc = StringField(required=True)\n",
        "\n",
        "class Status(Document):\n",
        "    code = StringField(required=True)\n",
        "    desc = StringField(required=True)\n",
        "\n",
        "class Weapon(Document):\n",
        "    code = IntField(required=True)\n",
        "    desc = StringField(required=True)\n",
        "\n",
        "class Crime(Document):\n",
        "    code = IntField(required=True)\n",
        "    desc = StringField(required=True)\n",
        "\n",
        "class Victim(Document):\n",
        "    age = IntField(required=True)\n",
        "    sex = StringField(required=True)\n",
        "    descent = StringField(required=True)\n",
        "\n",
        "class Location(Document):\n",
        "    location = StringField(required=True)\n",
        "    cross_street = StringField(required=True)\n",
        "    lat = FloatField(required=True)\n",
        "    lon = FloatField(required=True)\n",
        "    area = ReferenceField('Area', reverse_delete_rule=NULLIFY)\n",
        "\n",
        "class Incident(Document):\n",
        "    dr_no = IntField(required=True)\n",
        "    date_rptd = DateTimeField(required=True)\n",
        "    date_occ = DateTimeField(required=True)\n",
        "    time_occ = IntField(required=True)\n",
        "    status = ReferenceField('Status', reverse_delete_rule=NULLIFY)\n",
        "    crime = ListField(ReferenceField('Crime', reverse_delete_rule=NULLIFY))\n",
        "    premise = ListField(ReferenceField('Premise', reverse_delete_rule=NULLIFY))\n",
        "    weapon = ListField(ReferenceField('Weapon', reverse_delete_rule=NULLIFY))\n",
        "    modus_operandi = ListField(ReferenceField('ModusOperandi', reverse_delete_rule=NULLIFY))\n",
        "    location = ReferenceField('Location', reverse_delete_rule=NULLIFY)\n",
        "    victim = ReferenceField('Victim', reverse_delete_rule=NULLIFY)"
      ]
    },
    {
      "cell_type": "markdown",
      "metadata": {
        "id": "F6EbJ_JrRwC3"
      },
      "source": [
        "# Connect to DB"
      ]
    },
    {
      "cell_type": "code",
      "execution_count": 27,
      "metadata": {
        "colab": {
          "base_uri": "https://localhost:8080/"
        },
        "id": "8-5MLgA-yw5u",
        "outputId": "58304581-718f-4202-dfbf-429d1768813c"
      },
      "outputs": [
        {
          "name": "stdout",
          "output_type": "stream",
          "text": [
            "['crime', 'admin', 'local']\n"
          ]
        }
      ],
      "source": [
        "mongo_client = None\n",
        "\n",
        "with open('.dbenv', encoding='utf-8') as dbenv:\n",
        "    mongo_uri = dbenv.read()\n",
        "    mongo_client = connect(host=mongo_uri)\n",
        "\n",
        "pprint(mongo_client.list_database_names())"
      ]
    },
    {
      "cell_type": "markdown",
      "metadata": {
        "id": "qIRfo2BYYGax"
      },
      "source": [
        "# Load data"
      ]
    },
    {
      "cell_type": "code",
      "execution_count": 28,
      "metadata": {},
      "outputs": [],
      "source": [
        "col_map = {\n",
        "    'area': ['area', 'area_name'],\n",
        "    'modus_operandi': ['mocodes'],\n",
        "    'premise': ['premis_cd', 'premis_desc'],\n",
        "    'status': ['status', 'status_desc'],\n",
        "    'weapon': ['weapon_used_cd', 'weapon_desc'],\n",
        "    'victim': ['vict_age','vict_sex', 'vict_descent'],\n",
        "    'crime': ['crm_cd', 'crm_cd_desc'],\n",
        "    'location': ['location', 'cross_street', 'lat', 'lon'],\n",
        "    'incident': ['dr_no', 'date_rptd', 'date_occ', 'time_occ']\n",
        "}"
      ]
    },
    {
      "cell_type": "markdown",
      "metadata": {},
      "source": [
        "Store Area Codes"
      ]
    },
    {
      "cell_type": "code",
      "execution_count": 52,
      "metadata": {},
      "outputs": [],
      "source": [
        "areas = [Area(area=row['area'], area_name=row['area_name']) for _, row in area_code_data.iterrows()]\n",
        "area_docs = Area.objects.insert(areas)"
      ]
    },
    {
      "cell_type": "markdown",
      "metadata": {},
      "source": [
        "Store MO Codes"
      ]
    },
    {
      "cell_type": "code",
      "execution_count": 53,
      "metadata": {},
      "outputs": [],
      "source": [
        "modus_operandi = [ModusOperandi(code=row['code'], desc=row['description']) for _, row in mo_data.iterrows()]\n",
        "modus_operandi_docs = ModusOperandi.objects.insert(modus_operandi)"
      ]
    },
    {
      "cell_type": "markdown",
      "metadata": {},
      "source": [
        "Store Premise Codes"
      ]
    },
    {
      "cell_type": "code",
      "execution_count": 54,
      "metadata": {},
      "outputs": [],
      "source": [
        "premises = [Premise(code=row['premis_cd'], desc=row['premis_desc']) for _, row in premise_code_data.iterrows()]\n",
        "premise_docs = Premise.objects.insert(premises)"
      ]
    },
    {
      "cell_type": "markdown",
      "metadata": {},
      "source": [
        "Store Status Codes"
      ]
    },
    {
      "cell_type": "code",
      "execution_count": 55,
      "metadata": {},
      "outputs": [],
      "source": [
        "statuses = [Status(code=row['status'], desc=row['status_desc']) for _, row in status_code_data.iterrows()]\n",
        "status_docs = Status.objects.insert(statuses)"
      ]
    },
    {
      "cell_type": "markdown",
      "metadata": {},
      "source": [
        "Store Weapon Codes"
      ]
    },
    {
      "cell_type": "code",
      "execution_count": 56,
      "metadata": {},
      "outputs": [],
      "source": [
        "weapons = [Weapon(code=row['weapon_used_cd'], desc=row['weapon_desc']) for _, row in weapon_code_data.iterrows()]\n",
        "weapon_docs = Weapon.objects.insert(weapons)"
      ]
    },
    {
      "cell_type": "markdown",
      "metadata": {},
      "source": [
        "Store Crime Codes"
      ]
    },
    {
      "cell_type": "code",
      "execution_count": 57,
      "metadata": {},
      "outputs": [],
      "source": [
        "crimes = [Crime(code=row['crm_cd'], desc=row['crm_cd_desc']) for _, row in crime_code_data.iterrows()]\n",
        "crime_docs = Crime.objects.insert(crimes)"
      ]
    },
    {
      "cell_type": "markdown",
      "metadata": {},
      "source": [
        "Data pre-processing to link document references for each incident"
      ]
    },
    {
      "cell_type": "code",
      "execution_count": 62,
      "metadata": {},
      "outputs": [
        {
          "name": "stdout",
          "output_type": "stream",
          "text": [
            "2000\n"
          ]
        }
      ],
      "source": [
        "incident_ids = []\n",
        "\n",
        "for idx, row in crime_data.iterrows():\n",
        "    if row['mocodes'] != 0:\n",
        "        mocodes = [int(mocode) for mocode in row['mocodes'].split(' ')]\n",
        "    else:\n",
        "        mocodes = [0]\n",
        "\n",
        "    mocode_doc_refs = [mo.id for mo in ModusOperandi.objects(code__in=mocodes)]\n",
        "    area_doc_ref = [area.id for area in Area.objects(area=row['area'])]\n",
        "    crime_doc_ref = [crime.id for crime in Crime.objects(code=row['crm_cd'])]\n",
        "    premise_doc_ref = [premise.id for premise in Premise.objects(code=row['premis_cd'])]\n",
        "    weapon_doc_ref = [weapon.id for weapon in Weapon.objects(code=row['weapon_used_cd'])]\n",
        "    status_doc_ref = [status.id for status in Status.objects(code=row['status'])]\n",
        "\n",
        "    location = Location(location=row['location'], cross_street=row['cross_street'], lat=row['lat'], lon=row['lon'], area=area_doc_ref)\n",
        "    location_doc = location.save()\n",
        "    \n",
        "    victim = Victim(age=row['vict_age'], sex=row['vict_sex'], descent=row['vict_descent'])\n",
        "    victim_doc = victim.save()\n",
        "\n",
        "    incident = Incident(dr_no=row['dr_no'], date_rptd=row['date_rptd'], date_occ=row['date_occ'], time_occ=row['time_occ'], status=status_doc_ref, crime=crime_doc_ref, premise=premise_doc_ref, weapon=weapon_doc_ref, modus_operandi=mocode_doc_refs, location=location_doc, victim=victim_doc)\n",
        "    incident_doc = incident.save()\n",
        "\n",
        "    incident_ids.append(incident_doc)\n",
        "\n",
        "print(len(incident_ids))"
      ]
    },
    {
      "cell_type": "markdown",
      "metadata": {
        "id": "cKtPs02EYQ8o"
      },
      "source": [
        "# Queries"
      ]
    },
    {
      "cell_type": "markdown",
      "metadata": {},
      "source": [
        "Get victim count by gender"
      ]
    },
    {
      "cell_type": "code",
      "execution_count": 63,
      "metadata": {
        "id": "ZcdYAstAYS_-"
      },
      "outputs": [
        {
          "name": "stdout",
          "output_type": "stream",
          "text": [
            "Number of crimes where the victim is male:\n",
            "{'': 112, 'F': 1015, 'X': 74, 'M': 799}\n"
          ]
        }
      ],
      "source": [
        "counts = {}\n",
        "for doc in Victim.objects.aggregate([{ '$group': { '_id': \"$sex\", 'count': { '$sum': 1 }}}]):\n",
        "    counts[doc['_id']] = doc['count']\n",
        "\n",
        "print(f\"Number of crimes where the victim is male:\\n{counts}\")"
      ]
    },
    {
      "cell_type": "markdown",
      "metadata": {},
      "source": [
        "Get top 5 crimes by frequency"
      ]
    },
    {
      "cell_type": "code",
      "execution_count": 63,
      "metadata": {},
      "outputs": [
        {
          "data": {
            "image/png": "[encoded data removed]",
            "text/plain": [
              "<Figure size 1000x500 with 1 Axes>"
            ]
          },
          "metadata": {},
          "output_type": "display_data"
        }
      ],
      "source": [
        "top_crimes = Incident.objects.aggregate([\n",
        "    {\"$unwind\": \"$crime\"},\n",
        "    {\"$group\": {\"_id\": \"$crime\", \"count\": {\"$sum\": 1}}},\n",
        "    {\"$sort\": {\"count\": -1}},\n",
        "    {\"$limit\": 5},\n",
        "    {\"$lookup\": {\"from\": \"crime\", \"localField\": \"_id\", \"foreignField\": \"_id\", \"as\": \"crime_details\"}},\n",
        "    {\"$project\": {\"_id\": 0, \"crime\": \"$crime_details.desc\", \"count\": 1}}\n",
        "])\n",
        "\n",
        "crimes, counts = [], []\n",
        "for crime in top_crimes:\n",
        "    crimes.append(crime['crime'][0])\n",
        "    counts.append(crime['count'])\n",
        "\n",
        "# Create bar graph\n",
        "plt.figure(figsize=(10, 5))\n",
        "plt.barh(crimes, counts)\n",
        "plt.xlabel('Crime')\n",
        "plt.ylabel('Count')\n",
        "plt.yticks(rotation=45)\n",
        "plt.title('Top 5 Crimes by Frequency')\n",
        "\n",
        "# Show plot\n",
        "plt.tight_layout()\n",
        "plt.show()"
      ]
    },
    {
      "cell_type": "markdown",
      "metadata": {
        "id": "ISs-wSAwYMUR"
      },
      "source": [
        "# Close DB connection"
      ]
    },
    {
      "cell_type": "code",
      "execution_count": 64,
      "metadata": {
        "id": "ZgfgUjZaC58D"
      },
      "outputs": [],
      "source": [
        "disconnect()"
      ]
    }
  ],
  "metadata": {
    "colab": {
      "collapsed_sections": [
        "HDzlvDy-YmNr",
        "qIRfo2BYYGax",
        "cKtPs02EYQ8o",
        "ISs-wSAwYMUR"
      ],
      "provenance": []
    },
    "kernelspec": {
      "display_name": "Python 3",
      "name": "python3"
    },
    "language_info": {
      "codemirror_mode": {
        "name": "ipython",
        "version": 3
      },
      "file_extension": ".py",
      "mimetype": "text/x-python",
      "name": "python",
      "nbconvert_exporter": "python",
      "pygments_lexer": "ipython3",
      "version": "3.12.2"
    }
  },
  "nbformat": 4,
  "nbformat_minor": 0
}
